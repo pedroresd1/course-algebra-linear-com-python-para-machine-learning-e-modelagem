{
  "nbformat": 4,
  "nbformat_minor": 0,
  "metadata": {
    "colab": {
      "name": "algebra_linear_matrizes.ipynb",
      "provenance": [],
      "collapsed_sections": []
    },
    "kernelspec": {
      "name": "python3",
      "display_name": "Python 3"
    },
    "language_info": {
      "name": "python"
    }
  },
  "cells": [
    {
      "cell_type": "markdown",
      "metadata": {
        "id": "3oyqCesqeZkM"
      },
      "source": [
        "# Operacoes com Matrizes"
      ]
    },
    {
      "cell_type": "code",
      "metadata": {
        "id": "XO3Blc-NePMz"
      },
      "source": [
        "import numpy as np"
      ],
      "execution_count": 129,
      "outputs": []
    },
    {
      "cell_type": "code",
      "metadata": {
        "colab": {
          "base_uri": "https://localhost:8080/"
        },
        "id": "GCtPoAMreh4e",
        "outputId": "7d2f9482-8f37-437b-c659-79bee3532998"
      },
      "source": [
        "matrizA = np.array([[2,-3],\n",
        "                   [4,-6],\n",
        "                   [6,9]])\n",
        "matrizA"
      ],
      "execution_count": 130,
      "outputs": [
        {
          "output_type": "execute_result",
          "data": {
            "text/plain": [
              "array([[ 2, -3],\n",
              "       [ 4, -6],\n",
              "       [ 6,  9]])"
            ]
          },
          "metadata": {},
          "execution_count": 130
        }
      ]
    },
    {
      "cell_type": "code",
      "metadata": {
        "colab": {
          "base_uri": "https://localhost:8080/"
        },
        "id": "4U40Rvk1e2Wr",
        "outputId": "87bea1f4-a026-4652-a1a4-f8e40f1a1593"
      },
      "source": [
        "matrizB = np.array([[1,7],\n",
        "                   [-4,4],\n",
        "                   [5,-8]])\n",
        "matrizB"
      ],
      "execution_count": 131,
      "outputs": [
        {
          "output_type": "execute_result",
          "data": {
            "text/plain": [
              "array([[ 1,  7],\n",
              "       [-4,  4],\n",
              "       [ 5, -8]])"
            ]
          },
          "metadata": {},
          "execution_count": 131
        }
      ]
    },
    {
      "cell_type": "code",
      "metadata": {
        "colab": {
          "base_uri": "https://localhost:8080/"
        },
        "id": "sZCydzKVfCtl",
        "outputId": "20794a14-2eae-4e89-b759-0c71e0c78972"
      },
      "source": [
        "matrizC = np.array([[7,4],\n",
        "                    [8,3],\n",
        "                    [4,2]])\n",
        "matrizC"
      ],
      "execution_count": 132,
      "outputs": [
        {
          "output_type": "execute_result",
          "data": {
            "text/plain": [
              "array([[7, 4],\n",
              "       [8, 3],\n",
              "       [4, 2]])"
            ]
          },
          "metadata": {},
          "execution_count": 132
        }
      ]
    },
    {
      "cell_type": "markdown",
      "metadata": {
        "id": "M6ah9XMDfN9o"
      },
      "source": [
        "## Formato de Matrizes\n",
        "### funcao shape (linhas,colunas)"
      ]
    },
    {
      "cell_type": "code",
      "metadata": {
        "colab": {
          "base_uri": "https://localhost:8080/"
        },
        "id": "5x-Rshh5fQke",
        "outputId": "af695ea7-f41b-4864-c942-67c19a6c43ad"
      },
      "source": [
        "matrizA.shape"
      ],
      "execution_count": 133,
      "outputs": [
        {
          "output_type": "execute_result",
          "data": {
            "text/plain": [
              "(3, 2)"
            ]
          },
          "metadata": {},
          "execution_count": 133
        }
      ]
    },
    {
      "cell_type": "code",
      "metadata": {
        "colab": {
          "base_uri": "https://localhost:8080/"
        },
        "id": "bozXzmPJfZHV",
        "outputId": "9434aa11-d191-4247-a3df-afb349ce21ba"
      },
      "source": [
        "matrizB.shape"
      ],
      "execution_count": 134,
      "outputs": [
        {
          "output_type": "execute_result",
          "data": {
            "text/plain": [
              "(3, 2)"
            ]
          },
          "metadata": {},
          "execution_count": 134
        }
      ]
    },
    {
      "cell_type": "code",
      "metadata": {
        "colab": {
          "base_uri": "https://localhost:8080/"
        },
        "id": "0dqsVKGNfayV",
        "outputId": "88b57074-9ee6-46ad-e0f4-ecd598445c32"
      },
      "source": [
        "matrizC.shape"
      ],
      "execution_count": 135,
      "outputs": [
        {
          "output_type": "execute_result",
          "data": {
            "text/plain": [
              "(3, 2)"
            ]
          },
          "metadata": {},
          "execution_count": 135
        }
      ]
    },
    {
      "cell_type": "markdown",
      "metadata": {
        "id": "9zUHOYSmfe3z"
      },
      "source": [
        "## Soma de Matrizes"
      ]
    },
    {
      "cell_type": "code",
      "metadata": {
        "colab": {
          "base_uri": "https://localhost:8080/"
        },
        "id": "mNjXs0yIfhLE",
        "outputId": "50830cda-ef9a-4dc6-995e-3c4c2c9fe3ab"
      },
      "source": [
        "somaAB = matrizA + matrizB\n",
        "somaAB"
      ],
      "execution_count": 136,
      "outputs": [
        {
          "output_type": "execute_result",
          "data": {
            "text/plain": [
              "array([[ 3,  4],\n",
              "       [ 0, -2],\n",
              "       [11,  1]])"
            ]
          },
          "metadata": {},
          "execution_count": 136
        }
      ]
    },
    {
      "cell_type": "code",
      "metadata": {
        "colab": {
          "base_uri": "https://localhost:8080/"
        },
        "id": "NLJ6sdWtfxqP",
        "outputId": "248807ad-2673-467c-8f3b-1d7c2c8898d0"
      },
      "source": [
        "somaAC = matrizA + matrizC\n",
        "somaAC"
      ],
      "execution_count": 137,
      "outputs": [
        {
          "output_type": "execute_result",
          "data": {
            "text/plain": [
              "array([[ 9,  1],\n",
              "       [12, -3],\n",
              "       [10, 11]])"
            ]
          },
          "metadata": {},
          "execution_count": 137
        }
      ]
    },
    {
      "cell_type": "code",
      "metadata": {
        "colab": {
          "base_uri": "https://localhost:8080/"
        },
        "id": "jXMZEG4rf3J1",
        "outputId": "306c9eef-5cd7-4ab6-f187-1d903a8e2651"
      },
      "source": [
        "somaBC = matrizB + matrizC\n",
        "somaBC"
      ],
      "execution_count": 138,
      "outputs": [
        {
          "output_type": "execute_result",
          "data": {
            "text/plain": [
              "array([[ 8, 11],\n",
              "       [ 4,  7],\n",
              "       [ 9, -6]])"
            ]
          },
          "metadata": {},
          "execution_count": 138
        }
      ]
    },
    {
      "cell_type": "markdown",
      "metadata": {
        "id": "fn6xEzWTf-3o"
      },
      "source": [
        "## Subtracao de Matrizes"
      ]
    },
    {
      "cell_type": "code",
      "metadata": {
        "colab": {
          "base_uri": "https://localhost:8080/"
        },
        "id": "R5zAX8J3gBCC",
        "outputId": "d36c89ce-c810-408f-a0e6-7ed55ae25f6e"
      },
      "source": [
        "subAB = matrizA - matrizB\n",
        "subAB"
      ],
      "execution_count": 139,
      "outputs": [
        {
          "output_type": "execute_result",
          "data": {
            "text/plain": [
              "array([[  1, -10],\n",
              "       [  8, -10],\n",
              "       [  1,  17]])"
            ]
          },
          "metadata": {},
          "execution_count": 139
        }
      ]
    },
    {
      "cell_type": "code",
      "metadata": {
        "colab": {
          "base_uri": "https://localhost:8080/"
        },
        "id": "6OGqPdM0gGgK",
        "outputId": "944d31c8-ccd5-4e72-ec19-8cd46b2efe60"
      },
      "source": [
        "subBA = matrizB - matrizA\n",
        "subBA"
      ],
      "execution_count": 140,
      "outputs": [
        {
          "output_type": "execute_result",
          "data": {
            "text/plain": [
              "array([[ -1,  10],\n",
              "       [ -8,  10],\n",
              "       [ -1, -17]])"
            ]
          },
          "metadata": {},
          "execution_count": 140
        }
      ]
    },
    {
      "cell_type": "code",
      "metadata": {
        "colab": {
          "base_uri": "https://localhost:8080/"
        },
        "id": "jnGrbBw7gGea",
        "outputId": "a7810708-6405-4df3-c6b4-86065e143ee2"
      },
      "source": [
        "subAC = matrizA - matrizC\n",
        "subAC"
      ],
      "execution_count": 141,
      "outputs": [
        {
          "output_type": "execute_result",
          "data": {
            "text/plain": [
              "array([[-5, -7],\n",
              "       [-4, -9],\n",
              "       [ 2,  7]])"
            ]
          },
          "metadata": {},
          "execution_count": 141
        }
      ]
    },
    {
      "cell_type": "code",
      "metadata": {
        "colab": {
          "base_uri": "https://localhost:8080/"
        },
        "id": "zQxGOe2UgQ9L",
        "outputId": "04d8f5d4-664c-4246-9303-8eef85583533"
      },
      "source": [
        "subCA = matrizC - matrizA\n",
        "subCA"
      ],
      "execution_count": 142,
      "outputs": [
        {
          "output_type": "execute_result",
          "data": {
            "text/plain": [
              "array([[ 5,  7],\n",
              "       [ 4,  9],\n",
              "       [-2, -7]])"
            ]
          },
          "metadata": {},
          "execution_count": 142
        }
      ]
    },
    {
      "cell_type": "code",
      "metadata": {
        "colab": {
          "base_uri": "https://localhost:8080/"
        },
        "id": "cFInRfx8gVYU",
        "outputId": "ed4f0237-21c6-43e8-9730-2e823f455efa"
      },
      "source": [
        "subCB = matrizC - matrizB\n",
        "subCB"
      ],
      "execution_count": 143,
      "outputs": [
        {
          "output_type": "execute_result",
          "data": {
            "text/plain": [
              "array([[ 6, -3],\n",
              "       [12, -1],\n",
              "       [-1, 10]])"
            ]
          },
          "metadata": {},
          "execution_count": 143
        }
      ]
    },
    {
      "cell_type": "code",
      "metadata": {
        "colab": {
          "base_uri": "https://localhost:8080/"
        },
        "id": "NoLFAL1BgZUV",
        "outputId": "2372eb9b-b9c3-4184-990a-812bdf06526f"
      },
      "source": [
        "subBC = matrizB - matrizC\n",
        "subBC"
      ],
      "execution_count": 144,
      "outputs": [
        {
          "output_type": "execute_result",
          "data": {
            "text/plain": [
              "array([[ -6,   3],\n",
              "       [-12,   1],\n",
              "       [  1, -10]])"
            ]
          },
          "metadata": {},
          "execution_count": 144
        }
      ]
    },
    {
      "cell_type": "markdown",
      "metadata": {
        "id": "w3wSbvK0ghtZ"
      },
      "source": [
        "## Multiplicacao por Escalar"
      ]
    },
    {
      "cell_type": "code",
      "metadata": {
        "colab": {
          "base_uri": "https://localhost:8080/"
        },
        "id": "VUbmBkVcgj7i",
        "outputId": "5734ab30-82fe-4dd7-8167-2a78b79f8701"
      },
      "source": [
        "multiA2 = matrizA * 2\n",
        "multiA2"
      ],
      "execution_count": 145,
      "outputs": [
        {
          "output_type": "execute_result",
          "data": {
            "text/plain": [
              "array([[  4,  -6],\n",
              "       [  8, -12],\n",
              "       [ 12,  18]])"
            ]
          },
          "metadata": {},
          "execution_count": 145
        }
      ]
    },
    {
      "cell_type": "code",
      "metadata": {
        "colab": {
          "base_uri": "https://localhost:8080/"
        },
        "id": "_PNgJ-Hlgo-Z",
        "outputId": "8d24888d-93bd-4b80-c810-834a04025461"
      },
      "source": [
        "multiBm3 = matrizB * -3\n",
        "multiBm3"
      ],
      "execution_count": 146,
      "outputs": [
        {
          "output_type": "execute_result",
          "data": {
            "text/plain": [
              "array([[ -3, -21],\n",
              "       [ 12, -12],\n",
              "       [-15,  24]])"
            ]
          },
          "metadata": {},
          "execution_count": 146
        }
      ]
    },
    {
      "cell_type": "code",
      "metadata": {
        "colab": {
          "base_uri": "https://localhost:8080/"
        },
        "id": "_1jy5iCkgo8o",
        "outputId": "685cfc43-e48f-43ec-cfae-cd34b78bfad4"
      },
      "source": [
        "multiC13 = matrizC * 13\n",
        "multiC13"
      ],
      "execution_count": 147,
      "outputs": [
        {
          "output_type": "execute_result",
          "data": {
            "text/plain": [
              "array([[ 91,  52],\n",
              "       [104,  39],\n",
              "       [ 52,  26]])"
            ]
          },
          "metadata": {},
          "execution_count": 147
        }
      ]
    },
    {
      "cell_type": "markdown",
      "metadata": {
        "id": "op2eM2hdg3dM"
      },
      "source": [
        "## Multiplicacao de Matrizes\n",
        "### Para que haja uma multiplicacao de matrizes, o numero de colunas de uma matriz deve ser igual o numero de linhas da outra matriz"
      ]
    },
    {
      "cell_type": "code",
      "metadata": {
        "colab": {
          "base_uri": "https://localhost:8080/"
        },
        "id": "1hSg07M_hCJy",
        "outputId": "3e677ea4-e198-42a7-c036-30f962eb0f2b"
      },
      "source": [
        "matrizD = np.array([[7,8,0],\n",
        "                   [10,5,-2]])\n",
        "matrizD"
      ],
      "execution_count": 148,
      "outputs": [
        {
          "output_type": "execute_result",
          "data": {
            "text/plain": [
              "array([[ 7,  8,  0],\n",
              "       [10,  5, -2]])"
            ]
          },
          "metadata": {},
          "execution_count": 148
        }
      ]
    },
    {
      "cell_type": "code",
      "metadata": {
        "colab": {
          "base_uri": "https://localhost:8080/"
        },
        "id": "LDO8PO_uhZdo",
        "outputId": "0c520997-34af-482d-eea0-24bf8c3bb203"
      },
      "source": [
        "multCD = np.dot(matrizC,matrizD)\n",
        "multCD"
      ],
      "execution_count": 149,
      "outputs": [
        {
          "output_type": "execute_result",
          "data": {
            "text/plain": [
              "array([[89, 76, -8],\n",
              "       [86, 79, -6],\n",
              "       [48, 42, -4]])"
            ]
          },
          "metadata": {},
          "execution_count": 149
        }
      ]
    },
    {
      "cell_type": "code",
      "metadata": {
        "colab": {
          "base_uri": "https://localhost:8080/"
        },
        "id": "zUs-sAuGhqiT",
        "outputId": "79a23efd-f8e9-4c18-b686-091796d28ec0"
      },
      "source": [
        "multDC = np.dot(matrizD,matrizC)\n",
        "multDC"
      ],
      "execution_count": 150,
      "outputs": [
        {
          "output_type": "execute_result",
          "data": {
            "text/plain": [
              "array([[113,  52],\n",
              "       [102,  51]])"
            ]
          },
          "metadata": {},
          "execution_count": 150
        }
      ]
    },
    {
      "cell_type": "markdown",
      "metadata": {
        "id": "kC-vJuNEi8TH"
      },
      "source": [
        "## Matriz Inversa\n",
        "### Uma matriz quadrada A eh inversivel se existe a matriz B tal que :\n",
        "### A.B = B.A = I"
      ]
    },
    {
      "cell_type": "code",
      "metadata": {
        "colab": {
          "base_uri": "https://localhost:8080/"
        },
        "id": "oC1V_Hkfi_Rn",
        "outputId": "f4cd07ad-2776-4a62-eea5-b417b72a79ab"
      },
      "source": [
        "matrizIA = np.array([[2,5],[1,3]])\n",
        "matrizIA"
      ],
      "execution_count": 151,
      "outputs": [
        {
          "output_type": "execute_result",
          "data": {
            "text/plain": [
              "array([[2, 5],\n",
              "       [1, 3]])"
            ]
          },
          "metadata": {},
          "execution_count": 151
        }
      ]
    },
    {
      "cell_type": "code",
      "metadata": {
        "colab": {
          "base_uri": "https://localhost:8080/"
        },
        "id": "i1i4ZMfMjH-7",
        "outputId": "b84119fb-7f62-4cc8-ba85-2e86829f327c"
      },
      "source": [
        "matrizIB = np.array([[3,-5],[-1,2]])\n",
        "matrizIB"
      ],
      "execution_count": 152,
      "outputs": [
        {
          "output_type": "execute_result",
          "data": {
            "text/plain": [
              "array([[ 3, -5],\n",
              "       [-1,  2]])"
            ]
          },
          "metadata": {},
          "execution_count": 152
        }
      ]
    },
    {
      "cell_type": "code",
      "metadata": {
        "colab": {
          "base_uri": "https://localhost:8080/"
        },
        "id": "vQJmVASrjHrf",
        "outputId": "3049ff58-b38b-4141-851c-b4157d589dfb"
      },
      "source": [
        "matrizInv1 = np.dot(matrizIA,matrizIB)\n",
        "matrizInv1"
      ],
      "execution_count": 153,
      "outputs": [
        {
          "output_type": "execute_result",
          "data": {
            "text/plain": [
              "array([[1, 0],\n",
              "       [0, 1]])"
            ]
          },
          "metadata": {},
          "execution_count": 153
        }
      ]
    },
    {
      "cell_type": "code",
      "metadata": {
        "colab": {
          "base_uri": "https://localhost:8080/"
        },
        "id": "U0vT4FvMjvIU",
        "outputId": "e986767c-2a7e-4f35-ab69-e7fdb4acb349"
      },
      "source": [
        "matrizInv2 = np.dot(matrizIB,matrizIA)\n",
        "matrizInv2"
      ],
      "execution_count": 154,
      "outputs": [
        {
          "output_type": "execute_result",
          "data": {
            "text/plain": [
              "array([[1, 0],\n",
              "       [0, 1]])"
            ]
          },
          "metadata": {},
          "execution_count": 154
        }
      ]
    }
  ]
}