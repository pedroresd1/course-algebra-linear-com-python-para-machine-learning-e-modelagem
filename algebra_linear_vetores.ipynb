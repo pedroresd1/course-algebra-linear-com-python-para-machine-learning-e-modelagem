{
  "nbformat": 4,
  "nbformat_minor": 0,
  "metadata": {
    "colab": {
      "name": "algebra-linear-vetores.ipynb",
      "provenance": [],
      "collapsed_sections": []
    },
    "kernelspec": {
      "name": "python3",
      "display_name": "Python 3"
    },
    "language_info": {
      "name": "python"
    }
  },
  "cells": [
    {
      "cell_type": "markdown",
      "metadata": {
        "id": "VKY-ce3ODUXl"
      },
      "source": [
        "**1) Calcule a distância entre os 2 vetores**\n"
      ]
    },
    {
      "cell_type": "code",
      "metadata": {
        "id": "5BsofFhECu4W"
      },
      "source": [
        "import numpy as np\n",
        "from numpy import random as random\n",
        "import matplotlib.pyplot as plt"
      ],
      "execution_count": 48,
      "outputs": []
    },
    {
      "cell_type": "code",
      "metadata": {
        "colab": {
          "base_uri": "https://localhost:8080/"
        },
        "id": "v8v9ncWuEg6a",
        "outputId": "9e6f8a44-45fb-404b-b3db-dde360a1da43"
      },
      "source": [
        "p = np.array([1,2])\n",
        "p"
      ],
      "execution_count": 2,
      "outputs": [
        {
          "output_type": "execute_result",
          "data": {
            "text/plain": [
              "array([1, 2])"
            ]
          },
          "metadata": {},
          "execution_count": 2
        }
      ]
    },
    {
      "cell_type": "code",
      "metadata": {
        "id": "ndTfXuH-DpwZ"
      },
      "source": [
        "def distancia(u,v):\n",
        "  produto = 0\n",
        "  for i in range(len(u)):\n",
        "    produto = produto + (u[i] - v[i]) ** 2\n",
        "    i += 1\n",
        "  dist = produto**0.5\n",
        "  return dist"
      ],
      "execution_count": 13,
      "outputs": []
    },
    {
      "cell_type": "code",
      "metadata": {
        "id": "QzPPaCTJGK2d"
      },
      "source": [
        "u = np.array([1,5,-7])\n",
        "v = np.array([5,3,6])"
      ],
      "execution_count": 5,
      "outputs": []
    },
    {
      "cell_type": "code",
      "metadata": {
        "colab": {
          "base_uri": "https://localhost:8080/"
        },
        "id": "bDp_51xZGSs0",
        "outputId": "c245484a-68b6-4c7b-ff78-bfe41af6ba88"
      },
      "source": [
        "print(u,v)"
      ],
      "execution_count": 14,
      "outputs": [
        {
          "output_type": "stream",
          "name": "stdout",
          "text": [
            "[ 1  5 -7] [5 3 6]\n"
          ]
        }
      ]
    },
    {
      "cell_type": "code",
      "metadata": {
        "colab": {
          "base_uri": "https://localhost:8080/"
        },
        "id": "lri8FJ7CGVg0",
        "outputId": "65b6e421-71e8-4616-d369-88c61d7d093e"
      },
      "source": [
        "distancia(u,v)"
      ],
      "execution_count": 15,
      "outputs": [
        {
          "output_type": "execute_result",
          "data": {
            "text/plain": [
              "13.74772708486752"
            ]
          },
          "metadata": {},
          "execution_count": 15
        }
      ]
    },
    {
      "cell_type": "markdown",
      "metadata": {
        "id": "UAjl6S5LKR70"
      },
      "source": [
        "**2) Calcule a distância de 2 vetores com numeros**"
      ]
    },
    {
      "cell_type": "code",
      "metadata": {
        "id": "lWhwqDr3K5LI"
      },
      "source": [
        "## np.array cria o array\n",
        "## [] lista de compreensão"
      ],
      "execution_count": null,
      "outputs": []
    },
    {
      "cell_type": "code",
      "metadata": {
        "colab": {
          "base_uri": "https://localhost:8080/"
        },
        "id": "-iGRkDjWHE2e",
        "outputId": "d1966562-b474-499b-86a3-ecf59c96ab5b"
      },
      "source": [
        "u = np.array([random.randint(1,10) for _ in range(5)])\n",
        "u"
      ],
      "execution_count": 42,
      "outputs": [
        {
          "output_type": "execute_result",
          "data": {
            "text/plain": [
              "array([2, 6, 9, 7, 3])"
            ]
          },
          "metadata": {},
          "execution_count": 42
        }
      ]
    },
    {
      "cell_type": "code",
      "metadata": {
        "colab": {
          "base_uri": "https://localhost:8080/"
        },
        "id": "duMzVHA_KPND",
        "outputId": "f4cb798f-6b14-4a10-bb4b-18ac977c0a1d"
      },
      "source": [
        "v = np.array([random.randint(1,10) for _ in range(5)])\n",
        "v"
      ],
      "execution_count": 43,
      "outputs": [
        {
          "output_type": "execute_result",
          "data": {
            "text/plain": [
              "array([ 8,  4, 10,  4, 10])"
            ]
          },
          "metadata": {},
          "execution_count": 43
        }
      ]
    },
    {
      "cell_type": "code",
      "metadata": {
        "colab": {
          "base_uri": "https://localhost:8080/"
        },
        "id": "rMp0qDdMKVOb",
        "outputId": "9b2f72a3-26fe-4ef4-c10b-c8aa0285bace"
      },
      "source": [
        "distancia(u,v)"
      ],
      "execution_count": 44,
      "outputs": [
        {
          "output_type": "execute_result",
          "data": {
            "text/plain": [
              "9.9498743710662"
            ]
          },
          "metadata": {},
          "execution_count": 44
        }
      ]
    },
    {
      "cell_type": "markdown",
      "metadata": {
        "id": "AZ1QVbNvKnks"
      },
      "source": [
        "**3) Calcule a distância de 2 vetores com numeros e Represente gráficamente**"
      ]
    },
    {
      "cell_type": "code",
      "metadata": {
        "colab": {
          "base_uri": "https://localhost:8080/"
        },
        "id": "FBPI9fwUKs4x",
        "outputId": "411deffb-1679-4b3c-b7a2-97a4729f7fea"
      },
      "source": [
        "u = np.array([random.randint(1,10) for _ in range(5)])\n",
        "u"
      ],
      "execution_count": 46,
      "outputs": [
        {
          "output_type": "execute_result",
          "data": {
            "text/plain": [
              "array([ 4, 10,  1,  4,  7])"
            ]
          },
          "metadata": {},
          "execution_count": 46
        }
      ]
    },
    {
      "cell_type": "code",
      "metadata": {
        "colab": {
          "base_uri": "https://localhost:8080/"
        },
        "id": "xSMhFZxQKzG9",
        "outputId": "a371ce25-1634-4323-be70-5bd7f604db02"
      },
      "source": [
        "v = np.array([random.randint(1,10) for _ in range(5)])\n",
        "v"
      ],
      "execution_count": 47,
      "outputs": [
        {
          "output_type": "execute_result",
          "data": {
            "text/plain": [
              "array([7, 6, 6, 6, 1])"
            ]
          },
          "metadata": {},
          "execution_count": 47
        }
      ]
    },
    {
      "cell_type": "code",
      "metadata": {
        "id": "KWk5ds1kLHP6"
      },
      "source": [
        "def grafico (u,v):\n",
        "  soma = []\n",
        "  for i in range(len(u)):\n",
        "    soma.append(u[i] + v[i])\n",
        "    i += 1\n",
        "  v = np.array([u,v,soma])\n",
        "  origin = np.array([np.zeros(3),np.zeros(3)])\n",
        "  plt.quiver(*origin,v[:,0],v[:,1],color=['r','b','g'], scale=50)\n",
        "  return plt.show();"
      ],
      "execution_count": 64,
      "outputs": []
    },
    {
      "cell_type": "code",
      "metadata": {
        "colab": {
          "base_uri": "https://localhost:8080/",
          "height": 265
        },
        "id": "u16xSyCRLx9B",
        "outputId": "02a969b7-905b-4960-8942-e5f0ad0f0c34"
      },
      "source": [
        "grafico(u,v)"
      ],
      "execution_count": 65,
      "outputs": [
        {
          "output_type": "display_data",
          "data": {
            "image/png": "[encoded data removed]",
            "text/plain": [
              "<Figure size 432x288 with 1 Axes>"
            ]
          },
          "metadata": {
            "needs_background": "light"
          }
        }
      ]
    }
  ]
}