{
  "nbformat": 4,
  "nbformat_minor": 0,
  "metadata": {
    "colab": {
      "name": "determinante_matriz_inversa.ipynb",
      "provenance": [],
      "collapsed_sections": []
    },
    "kernelspec": {
      "name": "python3",
      "display_name": "Python 3"
    },
    "language_info": {
      "name": "python"
    }
  },
  "cells": [
    {
      "cell_type": "code",
      "metadata": {
        "id": "T2lJIk9Aub8l"
      },
      "source": [
        "import numpy as np\n",
        "import scipy as sp\n",
        "from scipy import linalg"
      ],
      "execution_count": 18,
      "outputs": []
    },
    {
      "cell_type": "code",
      "metadata": {
        "colab": {
          "base_uri": "https://localhost:8080/"
        },
        "id": "pUWJqR6DxQIT",
        "outputId": "ba1a800a-1a5f-400c-9986-03cc4217f369"
      },
      "source": [
        "matrizA = np.array([[2,5],[1,3]])\n",
        "matrizA"
      ],
      "execution_count": 3,
      "outputs": [
        {
          "output_type": "execute_result",
          "data": {
            "text/plain": [
              "array([[2, 5],\n",
              "       [1, 3]])"
            ]
          },
          "metadata": {},
          "execution_count": 3
        }
      ]
    },
    {
      "cell_type": "code",
      "metadata": {
        "colab": {
          "base_uri": "https://localhost:8080/"
        },
        "id": "yuTfZzNWxQGw",
        "outputId": "a216fc66-6710-42f4-bb27-b745a76756be"
      },
      "source": [
        "matrizB = np.array([[3,-5],[-1,2]])\n",
        "matrizB"
      ],
      "execution_count": 4,
      "outputs": [
        {
          "output_type": "execute_result",
          "data": {
            "text/plain": [
              "array([[ 3, -5],\n",
              "       [-1,  2]])"
            ]
          },
          "metadata": {},
          "execution_count": 4
        }
      ]
    },
    {
      "cell_type": "code",
      "metadata": {
        "colab": {
          "base_uri": "https://localhost:8080/"
        },
        "id": "_dQD4csfxdB_",
        "outputId": "ef0a3093-39b6-4b10-a62e-4ab7d2351819"
      },
      "source": [
        "mult = np.dot(matrizA,matrizB)\n",
        "mult"
      ],
      "execution_count": 5,
      "outputs": [
        {
          "output_type": "execute_result",
          "data": {
            "text/plain": [
              "array([[1, 0],\n",
              "       [0, 1]])"
            ]
          },
          "metadata": {},
          "execution_count": 5
        }
      ]
    },
    {
      "cell_type": "markdown",
      "metadata": {
        "id": "KpehH1DtxlAV"
      },
      "source": [
        "## Matriz Inversa"
      ]
    },
    {
      "cell_type": "code",
      "metadata": {
        "colab": {
          "base_uri": "https://localhost:8080/"
        },
        "id": "TvwDoxDpxqFU",
        "outputId": "56c6b8b8-9193-48dd-c737-d93361f0c4d6"
      },
      "source": [
        "matriz_invA = np.linalg.inv(matrizA)\n",
        "matriz_invA"
      ],
      "execution_count": 7,
      "outputs": [
        {
          "output_type": "execute_result",
          "data": {
            "text/plain": [
              "array([[ 3., -5.],\n",
              "       [-1.,  2.]])"
            ]
          },
          "metadata": {},
          "execution_count": 7
        }
      ]
    },
    {
      "cell_type": "code",
      "metadata": {
        "colab": {
          "base_uri": "https://localhost:8080/"
        },
        "id": "aCt08YKkxv0Z",
        "outputId": "dcbfb9ce-00f1-4ec2-89aa-77ca3409d136"
      },
      "source": [
        "matriz_invB = np.linalg.inv(matrizB)\n",
        "matriz_invB"
      ],
      "execution_count": 9,
      "outputs": [
        {
          "output_type": "execute_result",
          "data": {
            "text/plain": [
              "array([[2., 5.],\n",
              "       [1., 3.]])"
            ]
          },
          "metadata": {},
          "execution_count": 9
        }
      ]
    },
    {
      "cell_type": "code",
      "metadata": {
        "colab": {
          "base_uri": "https://localhost:8080/"
        },
        "id": "MkWgavX1x58b",
        "outputId": "a713545b-92ec-4932-e5aa-ac96bce3ffbd"
      },
      "source": [
        "matrizC = np.array([[-11,2,2],[-4,0,1],[6,-1,-1]])\n",
        "matrizC"
      ],
      "execution_count": 10,
      "outputs": [
        {
          "output_type": "execute_result",
          "data": {
            "text/plain": [
              "array([[-11,   2,   2],\n",
              "       [ -4,   0,   1],\n",
              "       [  6,  -1,  -1]])"
            ]
          },
          "metadata": {},
          "execution_count": 10
        }
      ]
    },
    {
      "cell_type": "code",
      "metadata": {
        "colab": {
          "base_uri": "https://localhost:8080/"
        },
        "id": "C-EQ_JKWx57I",
        "outputId": "e224cf77-5410-49a8-953f-0e3f5725b2a3"
      },
      "source": [
        "matrizC_Invc = np.linalg.inv(matrizC)\n",
        "matrizC_Invc"
      ],
      "execution_count": 14,
      "outputs": [
        {
          "output_type": "execute_result",
          "data": {
            "text/plain": [
              "array([[ 1.00000000e+00,  2.01858732e-16,  2.00000000e+00],\n",
              "       [ 2.00000000e+00, -1.00000000e+00,  3.00000000e+00],\n",
              "       [ 4.00000000e+00,  1.00000000e+00,  8.00000000e+00]])"
            ]
          },
          "metadata": {},
          "execution_count": 14
        }
      ]
    },
    {
      "cell_type": "markdown",
      "metadata": {
        "id": "vXR_h5SHzMvH"
      },
      "source": [
        "## Determinante"
      ]
    },
    {
      "cell_type": "code",
      "metadata": {
        "colab": {
          "base_uri": "https://localhost:8080/"
        },
        "id": "z6udIcDIzOI2",
        "outputId": "53f4e18c-d1eb-4e22-fd8f-2a78355b13c0"
      },
      "source": [
        "matrizE = np.array([[1,3,2],[4,2,4],[3,1,5]])\n",
        "matrizE"
      ],
      "execution_count": 15,
      "outputs": [
        {
          "output_type": "execute_result",
          "data": {
            "text/plain": [
              "array([[1, 3, 2],\n",
              "       [4, 2, 4],\n",
              "       [3, 1, 5]])"
            ]
          },
          "metadata": {},
          "execution_count": 15
        }
      ]
    },
    {
      "cell_type": "code",
      "metadata": {
        "colab": {
          "base_uri": "https://localhost:8080/"
        },
        "id": "_bd7R01KzOLP",
        "outputId": "0b9475b9-5df4-48e5-b4b6-7b24515ae2aa"
      },
      "source": [
        "detE = np.linalg.det(matrizE)\n",
        "detE"
      ],
      "execution_count": 16,
      "outputs": [
        {
          "output_type": "execute_result",
          "data": {
            "text/plain": [
              "-22.000000000000004"
            ]
          },
          "metadata": {},
          "execution_count": 16
        }
      ]
    },
    {
      "cell_type": "code",
      "metadata": {
        "colab": {
          "base_uri": "https://localhost:8080/"
        },
        "id": "O2EuOmJ8ztZl",
        "outputId": "74b00f74-f9db-4d68-90a7-7583009046d4"
      },
      "source": [
        "detscE = sp.linalg.det(matrizE)\n",
        "detscE"
      ],
      "execution_count": 19,
      "outputs": [
        {
          "output_type": "execute_result",
          "data": {
            "text/plain": [
              "-22.0"
            ]
          },
          "metadata": {},
          "execution_count": 19
        }
      ]
    },
    {
      "cell_type": "code",
      "metadata": {
        "colab": {
          "base_uri": "https://localhost:8080/"
        },
        "id": "kU3mRMpaztWu",
        "outputId": "40c52d52-1176-405f-eb91-7682dd9c3cf8"
      },
      "source": [
        "matrizF = np.array([[2,4],[3,8]])\n",
        "matrizF"
      ],
      "execution_count": 20,
      "outputs": [
        {
          "output_type": "execute_result",
          "data": {
            "text/plain": [
              "array([[2, 4],\n",
              "       [3, 8]])"
            ]
          },
          "metadata": {},
          "execution_count": 20
        }
      ]
    },
    {
      "cell_type": "code",
      "metadata": {
        "colab": {
          "base_uri": "https://localhost:8080/"
        },
        "id": "epilffTr0Huj",
        "outputId": "0f270f58-75d5-45cd-d7c9-35a392ffc165"
      },
      "source": [
        "detF1 = np.linalg.det(matrizF)\n",
        "detF1"
      ],
      "execution_count": 22,
      "outputs": [
        {
          "output_type": "execute_result",
          "data": {
            "text/plain": [
              "3.999999999999999"
            ]
          },
          "metadata": {},
          "execution_count": 22
        }
      ]
    },
    {
      "cell_type": "code",
      "metadata": {
        "colab": {
          "base_uri": "https://localhost:8080/"
        },
        "id": "dDK12P9f0PXp",
        "outputId": "c3031b3c-7d40-495f-dd2f-dbe3ce6ba17e"
      },
      "source": [
        "detF1 = sp.linalg.det(matrizF)\n",
        "detF1"
      ],
      "execution_count": 23,
      "outputs": [
        {
          "output_type": "execute_result",
          "data": {
            "text/plain": [
              "4.0"
            ]
          },
          "metadata": {},
          "execution_count": 23
        }
      ]
    },
    {
      "cell_type": "code",
      "metadata": {
        "colab": {
          "base_uri": "https://localhost:8080/"
        },
        "id": "Av4iqqRr09iR",
        "outputId": "9ae2e6f0-8a4f-42a0-960d-7662bb4b41cb"
      },
      "source": [
        "matrizH = np.array([[1,3,0,-2,1],\n",
        "                    [4,2,4,5,4],\n",
        "                    [0,1,5,-3,2],\n",
        "                    [-2,3,1,0,7],\n",
        "                    [0,1,9,3,2]])\n",
        "matrizH"
      ],
      "execution_count": 24,
      "outputs": [
        {
          "output_type": "execute_result",
          "data": {
            "text/plain": [
              "array([[ 1,  3,  0, -2,  1],\n",
              "       [ 4,  2,  4,  5,  4],\n",
              "       [ 0,  1,  5, -3,  2],\n",
              "       [-2,  3,  1,  0,  7],\n",
              "       [ 0,  1,  9,  3,  2]])"
            ]
          },
          "metadata": {},
          "execution_count": 24
        }
      ]
    },
    {
      "cell_type": "code",
      "metadata": {
        "colab": {
          "base_uri": "https://localhost:8080/"
        },
        "id": "EfkaU_wu1L2C",
        "outputId": "acbcada0-605a-438c-e20a-7254fe022ba1"
      },
      "source": [
        "detH = np.linalg.det(matrizH)\n",
        "detH"
      ],
      "execution_count": 25,
      "outputs": [
        {
          "output_type": "execute_result",
          "data": {
            "text/plain": [
              "3591.9999999999986"
            ]
          },
          "metadata": {},
          "execution_count": 25
        }
      ]
    },
    {
      "cell_type": "code",
      "metadata": {
        "colab": {
          "base_uri": "https://localhost:8080/"
        },
        "id": "fPjKlROU1QO1",
        "outputId": "e3a7ddae-493b-491f-9be0-ed6f070c9c12"
      },
      "source": [
        "detH = sp.linalg.det(matrizH)\n",
        "detH"
      ],
      "execution_count": 26,
      "outputs": [
        {
          "output_type": "execute_result",
          "data": {
            "text/plain": [
              "3592.000000000001"
            ]
          },
          "metadata": {},
          "execution_count": 26
        }
      ]
    }
  ]
}