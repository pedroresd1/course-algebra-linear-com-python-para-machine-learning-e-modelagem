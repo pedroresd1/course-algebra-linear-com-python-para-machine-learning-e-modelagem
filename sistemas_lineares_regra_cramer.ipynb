{
  "nbformat": 4,
  "nbformat_minor": 0,
  "metadata": {
    "colab": {
      "name": "sistemas_lineares_regra_cramer.ipynb",
      "provenance": [],
      "collapsed_sections": [],
      "toc_visible": true
    },
    "kernelspec": {
      "name": "python3",
      "display_name": "Python 3"
    },
    "language_info": {
      "name": "python"
    }
  },
  "cells": [
    {
      "cell_type": "markdown",
      "metadata": {
        "id": "iDOgKSYqXybs"
      },
      "source": [
        "# Teorema de Cramer"
      ]
    },
    {
      "cell_type": "code",
      "metadata": {
        "id": "_Sf6mLjVXsyp"
      },
      "source": [
        "import numpy as np\n",
        "import scipy as sp\n",
        "from scipy import linalg"
      ],
      "execution_count": 24,
      "outputs": []
    },
    {
      "cell_type": "markdown",
      "metadata": {
        "id": "eZXKi8oZk9UY"
      },
      "source": [
        "## Conceito Matemático:\n",
        "\n",
        "## Pelo teorema de Cramer, se um sistema linear apresenta o número de equações igual ao número de incógnitas e determinante diferente de zero, então as incógnitas são calculadas por:\n",
        "\n",
        "![image.png](data:image/png;base64,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)\n",
        "\n",
        "## Os valores de Dx, Dy e Dz são encontrados substituindo a coluna de interesse pelos termos independentes da matriz.\n",
        "\n",
        "![image.png](data:image/png;base64,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)\n",
        "\n",
        "## Para aplicar a regra de Cramer o determinante deve ser diferente de zero e, desta forma, apresentar uma solução única. Caso seja igual a zero, temos um sistema indeterminado ou impossível. Portanto, de acordo com a resposta obtida no cálculo do determinante, um sistema linear pode ser classificado em:\n",
        "\n",
        "\n",
        "### 1.   Determinado, pois possui uma solução única;\n",
        "### 2.   Indeterminado, pois possui infinitas soluções;\n",
        "### 3.   Impossível, pois não apresenta soluções.\n",
        "\n",
        "\n",
        "\n",
        "    \n",
        "    \n",
        "    "
      ]
    },
    {
      "cell_type": "markdown",
      "metadata": {
        "id": "OZ3AsI1gk2dJ"
      },
      "source": [
        "## Regra de Cramer - Python : Sistemas Lineares 2x2"
      ]
    },
    {
      "cell_type": "code",
      "metadata": {
        "id": "wr61Yk28k5BM"
      },
      "source": [
        "def cramer2 (A, v):\n",
        "  det = sp.linalg.det(np.array([A[:,0],A[:,1]]).T)\n",
        "  if det != 0:\n",
        "    detx = sp.linalg.det(np.array([v[:],A[:,1]]).T)\n",
        "    dety = sp.linalg.det(np.array([A[:,0],v[:]]).T)\n",
        "    x = detx/det\n",
        "    y = dety/det\n",
        "    print('X: {:.2f}'.format(x))\n",
        "    print('Y: {:.2f}'.format(y))\n",
        "  else:\n",
        "    print('Sistema inderterminado, determinante igual a 0.')"
      ],
      "execution_count": 49,
      "outputs": []
    },
    {
      "cell_type": "markdown",
      "metadata": {
        "id": "p0ZeP_J1xRGU"
      },
      "source": [
        "## Regra de Cramer - Python : Sistemas Lineares 3x3"
      ]
    },
    {
      "cell_type": "code",
      "metadata": {
        "id": "0DOJk9VwxSuX"
      },
      "source": [
        "def cramer3 (A, v):\n",
        "  det = sp.linalg.det(np.array([A[:,0],A[:,1],A[:,2]]).T)\n",
        "  if det != 0:\n",
        "    detx = sp.linalg.det(np.array([v[:],A[:,1],A[:,2]]).T)\n",
        "    dety = sp.linalg.det(np.array([A[:,0],v[:],A[:,2]]).T)\n",
        "    detz = sp.linalg.det(np.array([A[:,0],A[:,1],v[:]]).T)\n",
        "    x = detx/det\n",
        "    y = dety/det\n",
        "    z = detz/det\n",
        "    print('X: {:.2f}'.format(x))\n",
        "    print('Y: {:.2f}'.format(y))\n",
        "    print('Z: {:.2f}'.format(z))\n",
        "  else:\n",
        "    print('Sistema inderterminado, determinante igual a 0.')"
      ],
      "execution_count": 62,
      "outputs": []
    },
    {
      "cell_type": "markdown",
      "metadata": {
        "id": "uuaB733VnDDS"
      },
      "source": [
        "## 1) Exercicio 1\n",
        "\n",
        "### Calcule o x e y do sistema 2x2 abaixo: \n",
        "\n",
        "[Exercicio 2](https://beduka.com/blog/exercicios/exercicios-sobre-sistemas-lineares/)\n",
        "\n",
        "![uel-O-sistema-abaixo-de-incognitas-x-e-y-e[1].jpg](data:image/jpeg;base64,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)"
      ]
    },
    {
      "cell_type": "code",
      "metadata": {
        "colab": {
          "base_uri": "https://localhost:8080/"
        },
        "id": "G06XBWJjm3tt",
        "outputId": "3e46d5f4-59a1-42a0-a1b4-1895ced73e27"
      },
      "source": [
        "matriz = np.array([[6,1],\n",
        "                    [2,-7]])\n",
        "matriz"
      ],
      "execution_count": 50,
      "outputs": [
        {
          "output_type": "execute_result",
          "data": {
            "text/plain": [
              "array([[ 6,  1],\n",
              "       [ 2, -7]])"
            ]
          },
          "metadata": {},
          "execution_count": 50
        }
      ]
    },
    {
      "cell_type": "code",
      "metadata": {
        "colab": {
          "base_uri": "https://localhost:8080/"
        },
        "id": "XZ5DDqFxnlF7",
        "outputId": "45f3e30c-ab37-40f7-a361-e7eedcce6062"
      },
      "source": [
        "vetor = np.array([9,1])\n",
        "vetor"
      ],
      "execution_count": 52,
      "outputs": [
        {
          "output_type": "execute_result",
          "data": {
            "text/plain": [
              "array([9, 1])"
            ]
          },
          "metadata": {},
          "execution_count": 52
        }
      ]
    },
    {
      "cell_type": "code",
      "metadata": {
        "colab": {
          "base_uri": "https://localhost:8080/"
        },
        "id": "aOJCu3I3nvOt",
        "outputId": "9358663a-15fa-47da-8749-2c85551765f5"
      },
      "source": [
        "cramer2(matriz,vetor)"
      ],
      "execution_count": 53,
      "outputs": [
        {
          "output_type": "stream",
          "name": "stdout",
          "text": [
            "X: 1.45\n",
            "Y: 0.27\n"
          ]
        }
      ]
    },
    {
      "cell_type": "markdown",
      "metadata": {
        "id": "CnY99hIQXyZR"
      },
      "source": [
        "##2) Exercicio 2 \n",
        "\n",
        "[Questão 3- (Unisinos 2012) ](https://beduka.com/blog/exercicios/exercicios-sobre-sistemas-lineares/)\n",
        "\n",
        "### Numa loja, todas as calças têm o mesmo preço, e as camisas também, sendo o preço de uma calça diferente do de uma camisa. Ricardo comprou 1 calça e 2 camisas e pagou 240,00 reais.. \n",
        "### Roberto comprou 2 calças e 3 camisas e pagou 405,00 reais. Qual o preço, em reais, de uma calça e uma camisa, respectivamente?\n",
        "\n",
        "#### 1x + 2y = 240\n",
        "#### 2x + 3y = 405\n",
        "\n",
        "#### Onde:\n",
        "#### x = calca\n",
        "#### y = camisetas"
      ]
    },
    {
      "cell_type": "code",
      "metadata": {
        "colab": {
          "base_uri": "https://localhost:8080/"
        },
        "id": "6C4o2nbTrjsZ",
        "outputId": "53646b7e-a681-43d3-c8d5-bdda6063fed1"
      },
      "source": [
        "matriz = np.array([[1,2],[2,3]])\n",
        "matriz"
      ],
      "execution_count": 54,
      "outputs": [
        {
          "output_type": "execute_result",
          "data": {
            "text/plain": [
              "array([[1, 2],\n",
              "       [2, 3]])"
            ]
          },
          "metadata": {},
          "execution_count": 54
        }
      ]
    },
    {
      "cell_type": "code",
      "metadata": {
        "colab": {
          "base_uri": "https://localhost:8080/"
        },
        "id": "H3pv03XnsOgw",
        "outputId": "c9e56f01-fcd5-441f-aab6-1193a0d78367"
      },
      "source": [
        "vetor = np.array([240,405])\n",
        "vetor"
      ],
      "execution_count": 55,
      "outputs": [
        {
          "output_type": "execute_result",
          "data": {
            "text/plain": [
              "array([240, 405])"
            ]
          },
          "metadata": {},
          "execution_count": 55
        }
      ]
    },
    {
      "cell_type": "code",
      "metadata": {
        "colab": {
          "base_uri": "https://localhost:8080/"
        },
        "id": "MS3Ze5ZusSsN",
        "outputId": "f9c23c4e-a7cd-44e8-ed84-69ead5e68ed8"
      },
      "source": [
        "cramer2(matriz, vetor)"
      ],
      "execution_count": 56,
      "outputs": [
        {
          "output_type": "stream",
          "name": "stdout",
          "text": [
            "X: 90.00\n",
            "Y: 75.00\n"
          ]
        }
      ]
    },
    {
      "cell_type": "markdown",
      "metadata": {
        "id": "FtYSUI2Yx9Qw"
      },
      "source": [
        "## 3) Exercicio 3\n",
        "\n",
        "[Exercicio 1](https://matematicabasica.net/exercicios-com-sistemas-lineares/)\n",
        "\n",
        "![image.png](data:image/png;base64,iVBORw0KGgoAAAANSUhEUgAAAR0AAAB6CAYAAACC7IctAAANMklEQVR4nO2d0ZWiPBTHoQMsYF+wA3zet1DAdw62EDvAGrCDTAvYgdsCdsC0gB3c72HORdTAiISYyP93jg87s+Nm3OSX5CbcGxAAAFgkeHcDAADLAtIBAFgF0gEAWAXSAQBYBdIBAFgF0gEAWAXSAQBYBdIBAFgF0gEAWAXSAQBYBdIBAFgF0gEAWAXSAQBYBdIBAFgF0gEAWAXSAQBYBdIBAFgF0gEAWAXSAQBYBdIBAFgF0gEAWAXSAQBYBdIBAFjlY6TTNA1JKSkIPuZXAuAj+YgRWlUVRVFEQRBQURTvbg4AYADvpXM6nSgIAgqCgMqyfHdzAAC/4LV0qqpqhfNpK5yyLCnLMpJSUpZllGUZ1XX97mYtiqqqSEpJeZ5TnuckpaSmad7dLO/xWjpxHFMQBJQkybubYpQ8zx8kyvGqqqre1KplcTqdKI7jG8novgbG4610iqJoVzmn0+ndzWlpmmaSGJqm0Uq0ruuPFKyrxHGs3a4LIUhK+YYWfQ7eSocDx64NwrIsKc/zST8fBAFlWfbwPZYsmBeOE+pWNEop/B9MxMtPrxs8di2WM1U6dV1TFEXa3ysIAoqiaErzwBMMXb3gvodt7ut4KR3uFC7+50+VTh8cNNetgIBZkiShOI613+NtrmuTnU94KR0hRCudsUE9lgKfRhD9zF4cvJ0qjLmkw6LVnWBxu4UQ2s8jjmOn4l5SSoqiiOI4bicNvtzpAtw2HSwdV9rqI15Kh0+txu6tlVI3g08I0QqI6BqcnrJ6mkM6fPlRJw6lVNveJEke/m3eDrgiHSklJUlycxWAJeTKlYAgCH6VDlacr+OldDiIPEY6TdM8DMgsy25WS0qpyTOYSenw6iWKot6Lj/xvNU2jXfbnee5U4FMndCHE01IsioKiKHrp9awohg4o+HMWQjz1XuARd3rjCF6RjlLqYSaN49h455lre5VlGSVJcrN9qqqqHcR86nU/qJMkce6Er0uWZc6swpgh6WClM53FSOeevpXBMwzNttyuqbOtjqFlf5Zl2pOtIAielmBd163IxrxeRUrp3EEAEWI6c7NY6cx19DnXSofouh1USj18TycXPvF6diXBq6kxrzFboy55njsTw7knjmNIZ0YWK525Yh0mLgf2/Ty3+X611Bcs5sC4a9f2dcJxqY18OqqDP2ud+MFzeCmd1WpFYRhSGIYvv4cu1lHX9eQn1adKh4WqWz3wsfn9LNsnFyFE74z9Loqi0Arm2ZXD4XCg1Wr19OuVre3QrePj8UhhGNL5fH7qvcAji5GOlLIVSt8SOc/zyTPuVOnojr2739Ol8GDpdOGYlUvbgKIo2qe2u5/znFvSV+D+oRP/brej9Xr9hlZ9DouQDsc2OGjMFwO7J1en08lIPp65tlf8O+hO2/h73S0Lx39cyTFUVVW7JeEtSpZl7WrMpe0VEbV3iLpcLhdarVZ0PB7f1KrPYBHSIfpZ6fDNXQ4eSynbmdfU4DQxayulKMuy9uJfWZYURdHgqkUpdXPZkeM/rgzm+1NCPgEUQjgbUBZC0H6/JyKi7+9vStOUDofDm1vlP4uRji1MbhVOpxMVRUFlWY4emEIIp+/n+ML5fKbD4UBfX1/0/f397uZ8BF5KZ7fb0d+/f+m///57d1MeaJrG6szNK4buioZjEq5srQDo4qV01uu1sysd2+huVXOsBAAX8VI6Lm+vbHOftzfP84fHJQBwCUjHczglBJ/IIc8LcB1IBwBgFUgHAGAVSAcAYBVIBwBgFUgHAGAVSAcAYBVIBwBgFS+lMyWJV1mW7Y1drkqAi3RgiL5Sz+A1vJQOC2dsgqqiKG4uz3FniqLIyVy94P0opdokYMAMXktnzOxT17U2NQQnu3pXhr3L5eJ8Fjof2mia3W5HaZpSURQUxzGkYxDvpNOtYz4mhYSUsvfpb0549Y7VzvF4bHO2uIoPbZwTXg0DM3gnHU7N2Vditw/uOLqf4YRX70i27cOA9qGNcwLpmMU76XBJ4bGBPc7wr8t7C+kM40Mb5wTSMYtX0uEqlq/U5m6apnf7NCQkzgTIT3ET/Wzx8jxv059OwcSA5nYIIbQncXEcT6qiaVI6XLc8juP2/4OflHcVSMcsXkmHVzkmS7pyIFm3clJK3QzWbg5ioutWb0osaOqA5jzKRPpKEn01sWy2kZFSttcUOPE5S8jVPMlEkI5pvJEOD3DTp0xcS+peHE3TPAxgDjjzakIpNXmGnjqg+WcvlwuFYfiQOHy/30++RGlKOjo5j60QOlTSWffq1sDabrcvtRvSMYsX0uFtlelSJbwK0OUSVko9zL661KBTmTKgz+dze5TdVwRus9nQZrN5WxuHyLJs0grMFpCOWZyXDldbzLLMqHCapqEoip7OtMfbsFcy8w3Nzvw4R1+Fymdn5+12S6vV6uHrYRg+JYyhypmm2thFSunNhUxIxyzOSyeO41muoAshRgmEV0WmB4qpVYROLufzmcIwpH///k16b9MrHV0tc5eBdMzivHSqqmpPO0x11L5cwkMrKT5WN42JAf3v3z+tXA6HA4VhSJfLZdL7m5SOTjiuP/sG6ZjFeekQXes4mXhGSimlPeau63rwnk6SJA8rrrquJ9eWMjGg++SSpqmRutumpFMUhVYwY4LxCCT7jxfSIbpub6Ycr/L9Gh33x+NSylYoLL37wZHn+eRZ2qR0uvBp1m63m/TeRObuEnHViu5nZrIi6lxAOmbxRjpE1yPrV2I8dV1TFEXtiuX+1T0Kr6rqJmjMFwO7J1en08lIBU0TA5pjN92yt9vtlsIwpOPxOLWJk9tYVVW7iuTJg9OLmD6RnAM88GkWr6Tz/f3dnqR8fX2N+lkWy9CrC8d98jxvt3RSyna2NlWy19TW5evri9I0pf1+375MxHNMtPE+fsZbJCGEswHlw+FAaZre5G7iScv1lZnreCUdomtJYd3xsI/MdQcmTdPJ93OYpT97BczinXQ4fqG7COcjl8vlZls0Fr5f013R8IrQxNaKaHobAejinXQ4fmEqSOo76/Wa0jS9+dp2u334GgCu4J10+FQmDENj2wef2e12N6uc/X5Pm83GSCwHgDnwTjpEdHMtf+lcLhfa7Xa03+9pt9s9PPAJgGt4KR2UoAHAXyAdAIBVIB0AgFUgHQCAVSAdAIBVIB0AgFUgHQCAVSAdAIBVFiedsizb0idcBsXVJ53Bezkej+grM7Ao6XCBvC59JWjAstnv9w+3u9FXzOCldP78+TNaOk3TaJN/cVbAOZK/fwqXy+Ujnuh/FvSVefFSOpxTZ4x0uHaWrjqoLokXuLK0fDroK/Pi5af3yvaK05XqqkBwVjigZ2nSQV+Zl8VIpw/Oh2yyPvqnsTTp9IG+YobFS4eDg32nElytgJOzE12rSnAOZRc4HA603+8pTVNtLp31ev1y0T3T0pFStrXMOCjbNM3kuvBz81tfAc+xaOlwIb++etr3ZWmEEK2AiH4SjLtwmvH19dUGejebzYMg+orxPYtJ6UgpKUmSm2NolpDLg/m3vgKeZ5HSyfOchBAURVFvVYemaR5WMVwCh0umKKWcmJ1ZCJxV8f6olytDvIpJ6egELYR4ejCPLbbXfb2yLXqmr4BxLFI6XbIsoyRJHmovKaUeZt44jm9qX7nA+XxuVznH41GbsH6z2UxK7TpnTCfLMm9WD319BYxj8dIh+jmRiON48O80TXNTgG8sdV1TVVWjX2PYbrfaFK5hGP4qDa4qoXt108PqXq+W65VSvn1rOpZn+goYBtKh67ZpqJY5V6Z8dZDwLDnmNWbbQaSXC1fPeDWeQzTPSifPc6djOH0801fAMIuRzlDN7DzPfz0K5b/jKn3BYq4TNqU6hGnp6ITj0pZlal8Bw7g7igZ45UYyl4fVrRz4KHQoKMyrjy51XTsTXOyTS5qmtF6vJ723SekURaEVzLMBeRuB5Kl9BQzjpXQ2m00rnWdn8KEa1FznvCsQKWX7Z37m5r6j5XnuzAzNx/ddOA41dYAMzfxjKIqirQXf/dxMvb8pxvYVMA4vpbPdbkeXFu7r2HzLtHsqxV/joDFfDOz+ndPp5FTH4zZ3ty0cf5jaThNSqKqqjYNwfCzLMhJCUBzHzsibaFxfAePxUjrdeuZj6nUrpSjLMlJKUVVVVJYlRVGkXQlIKdsbxxw8llK2M7VLwmGUUjcXGDn+MHVAm5DO/akfb5OEEE4GlMf0FTAOL6XTLS38Ss3u0+lERVFQWZZOdnhTCCGMpGFwbftjk6X0FZt4KR2i69bBxEzuO7xq6H4OHIcysSJrmgYDDhjDW+nw/joIgsXOwozupjTHSwBwDW+lQ3S9M7H0J3+llDernDzPcV0fOIvX0iG6brNcOwGxCaeF4FO2Vx/VAMAG3kuH6HphK47jRa94APCBj5AO0c8RJ98kBQC4y0eN0KZpnLw/AwC48lHSAQC4D6QDALAKpAMAsAqkAwCwCqQDALAKpAMAsAqkAwCwCqQDALAKpAMAsAqkAwCwCqQDALDK/z2UExRiCTbEAAAAAElFTkSuQmCC)\n",
        "\n"
      ]
    },
    {
      "cell_type": "code",
      "metadata": {
        "colab": {
          "base_uri": "https://localhost:8080/"
        },
        "id": "NZmilGBTyLh9",
        "outputId": "0c8927b5-e4d8-4cfa-e484-3c316b561aba"
      },
      "source": [
        "matriz = np.array([[1,3,-1],\n",
        "                   [2,1,1],\n",
        "                   [3,-1,1]])\n",
        "matriz"
      ],
      "execution_count": 63,
      "outputs": [
        {
          "output_type": "execute_result",
          "data": {
            "text/plain": [
              "array([[ 1,  3, -1],\n",
              "       [ 2,  1,  1],\n",
              "       [ 3, -1,  1]])"
            ]
          },
          "metadata": {},
          "execution_count": 63
        }
      ]
    },
    {
      "cell_type": "code",
      "metadata": {
        "id": "wOVIc9tPyV2R"
      },
      "source": [
        "vetor = np.array([0,1,3])"
      ],
      "execution_count": 64,
      "outputs": []
    },
    {
      "cell_type": "code",
      "metadata": {
        "colab": {
          "base_uri": "https://localhost:8080/"
        },
        "id": "NtOoI9XfyYW0",
        "outputId": "e46c1049-bae2-4656-b2f4-56501b28d21b"
      },
      "source": [
        "cramer3(matriz, vetor)"
      ],
      "execution_count": 65,
      "outputs": [
        {
          "output_type": "stream",
          "name": "stdout",
          "text": [
            "X: 1.00\n",
            "Y: -0.50\n",
            "Z: -0.50\n"
          ]
        }
      ]
    },
    {
      "cell_type": "markdown",
      "metadata": {
        "id": "Bj84Y94pykkK"
      },
      "source": [
        "## 4) Exercicio 4\n",
        "\n",
        "[Exercicio 1](https://matematicabasica.net/exercicios-com-sistemas-lineares/)\n",
        "\n",
        "![image.png](data:image/png;base64,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)\n"
      ]
    },
    {
      "cell_type": "code",
      "metadata": {
        "colab": {
          "base_uri": "https://localhost:8080/"
        },
        "id": "2PSdaoNpysml",
        "outputId": "390abf41-87b6-4492-c336-0f5d942b3fee"
      },
      "source": [
        "matriz = np.array([[2,4,-2],\n",
        "                  [-2,-2,2],\n",
        "                   [5,4,-3]])\n",
        "matriz"
      ],
      "execution_count": 66,
      "outputs": [
        {
          "output_type": "execute_result",
          "data": {
            "text/plain": [
              "array([[ 2,  4, -2],\n",
              "       [-2, -2,  2],\n",
              "       [ 5,  4, -3]])"
            ]
          },
          "metadata": {},
          "execution_count": 66
        }
      ]
    },
    {
      "cell_type": "code",
      "metadata": {
        "colab": {
          "base_uri": "https://localhost:8080/"
        },
        "id": "2KwOzdZty0yW",
        "outputId": "4775ead5-fab3-4143-f0a4-094c83d182b2"
      },
      "source": [
        "vetor = np.array([2,1,6])\n",
        "vetor"
      ],
      "execution_count": 67,
      "outputs": [
        {
          "output_type": "execute_result",
          "data": {
            "text/plain": [
              "array([2, 1, 6])"
            ]
          },
          "metadata": {},
          "execution_count": 67
        }
      ]
    },
    {
      "cell_type": "code",
      "metadata": {
        "colab": {
          "base_uri": "https://localhost:8080/"
        },
        "id": "V8415WKRy5iD",
        "outputId": "3a227182-04c8-4631-e4f5-451905d051b4"
      },
      "source": [
        "cramer3(matriz, vetor)"
      ],
      "execution_count": 68,
      "outputs": [
        {
          "output_type": "stream",
          "name": "stdout",
          "text": [
            "X: 3.00\n",
            "Y: 1.50\n",
            "Z: 5.00\n"
          ]
        }
      ]
    }
  ]
}